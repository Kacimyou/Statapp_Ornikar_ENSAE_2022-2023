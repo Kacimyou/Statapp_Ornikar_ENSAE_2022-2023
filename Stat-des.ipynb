{
 "cells": [
  {
   "cell_type": "code",
   "execution_count": 1,
   "metadata": {},
   "outputs": [],
   "source": [
    "import pandas as pd\n",
    "import numpy as np\n",
    "#import prince \n",
    "from sklearn.decomposition import PCA\n",
    "from sklearn.preprocessing import scale\n",
    "from sklearn.preprocessing import normalize\n",
    "from sklearn.impute import SimpleImputer\n",
    "import matplotlib.pyplot as plt \n",
    "import seaborn as sns"
   ]
  },
  {
   "cell_type": "code",
   "execution_count": 2,
   "metadata": {},
   "outputs": [
    {
     "name": "stderr",
     "output_type": "stream",
     "text": [
      "c:\\Users\\mira_\\AppData\\Local\\Continuum\\anaconda3\\lib\\site-packages\\IPython\\core\\interactiveshell.py:3057: DtypeWarning: Columns (12) have mixed types. Specify dtype option on import or set low_memory=False.\n",
      "  interactivity=interactivity, compiler=compiler, result=result)\n"
     ]
    },
    {
     "data": {
      "text/html": [
       "<div>\n",
       "<style scoped>\n",
       "    .dataframe tbody tr th:only-of-type {\n",
       "        vertical-align: middle;\n",
       "    }\n",
       "\n",
       "    .dataframe tbody tr th {\n",
       "        vertical-align: top;\n",
       "    }\n",
       "\n",
       "    .dataframe thead th {\n",
       "        text-align: right;\n",
       "    }\n",
       "</style>\n",
       "<table border=\"1\" class=\"dataframe\">\n",
       "  <thead>\n",
       "    <tr style=\"text-align: right;\">\n",
       "      <th></th>\n",
       "      <th>learner_id</th>\n",
       "      <th>unique_learner_id</th>\n",
       "      <th>creation_serie</th>\n",
       "      <th>score</th>\n",
       "      <th>series_id</th>\n",
       "      <th>status</th>\n",
       "      <th>type</th>\n",
       "      <th>is_freemium</th>\n",
       "      <th>score_pct</th>\n",
       "      <th>training_session_id</th>\n",
       "      <th>is_before_theory_exam_success</th>\n",
       "      <th>course_id</th>\n",
       "      <th>course_name</th>\n",
       "      <th>course_order</th>\n",
       "    </tr>\n",
       "  </thead>\n",
       "  <tbody>\n",
       "    <tr>\n",
       "      <th>0</th>\n",
       "      <td>2364513</td>\n",
       "      <td>-92590771937651771</td>\n",
       "      <td>2021-10-01T19:01:16.000Z</td>\n",
       "      <td>16.0</td>\n",
       "      <td>9111</td>\n",
       "      <td>complete</td>\n",
       "      <td>exam</td>\n",
       "      <td>0</td>\n",
       "      <td>0.400</td>\n",
       "      <td>302234e2-7f5c-415a-ad46-f77067fb6da4</td>\n",
       "      <td>True</td>\n",
       "      <td>NaN</td>\n",
       "      <td>NaN</td>\n",
       "      <td>NaN</td>\n",
       "    </tr>\n",
       "    <tr>\n",
       "      <th>1</th>\n",
       "      <td>1987716</td>\n",
       "      <td>3392312726569945104</td>\n",
       "      <td>2021-08-18T22:59:12.000Z</td>\n",
       "      <td>19.0</td>\n",
       "      <td>6967</td>\n",
       "      <td>complete</td>\n",
       "      <td>exam</td>\n",
       "      <td>0</td>\n",
       "      <td>0.475</td>\n",
       "      <td>07efe275-053d-4dc6-943e-4db2835ccc01</td>\n",
       "      <td>True</td>\n",
       "      <td>NaN</td>\n",
       "      <td>NaN</td>\n",
       "      <td>NaN</td>\n",
       "    </tr>\n",
       "    <tr>\n",
       "      <th>2</th>\n",
       "      <td>304008</td>\n",
       "      <td>-1708221254721400777</td>\n",
       "      <td>2021-08-07T16:58:46.000Z</td>\n",
       "      <td>19.0</td>\n",
       "      <td>6247</td>\n",
       "      <td>complete</td>\n",
       "      <td>exam</td>\n",
       "      <td>0</td>\n",
       "      <td>0.475</td>\n",
       "      <td>fdaa6cf0-391f-46be-bcd0-2733da668d43</td>\n",
       "      <td>True</td>\n",
       "      <td>NaN</td>\n",
       "      <td>NaN</td>\n",
       "      <td>NaN</td>\n",
       "    </tr>\n",
       "    <tr>\n",
       "      <th>3</th>\n",
       "      <td>584245</td>\n",
       "      <td>-2588731723289132657</td>\n",
       "      <td>2019-06-16T11:02:52.000Z</td>\n",
       "      <td>18.0</td>\n",
       "      <td>71</td>\n",
       "      <td>complete</td>\n",
       "      <td>exam</td>\n",
       "      <td>0</td>\n",
       "      <td>0.450</td>\n",
       "      <td>20d4b7f2-6c48-42e6-88a6-21ca16d20265</td>\n",
       "      <td>True</td>\n",
       "      <td>NaN</td>\n",
       "      <td>NaN</td>\n",
       "      <td>NaN</td>\n",
       "    </tr>\n",
       "    <tr>\n",
       "      <th>4</th>\n",
       "      <td>1276434</td>\n",
       "      <td>-479177578173813811</td>\n",
       "      <td>2021-01-31T21:30:01.000Z</td>\n",
       "      <td>14.0</td>\n",
       "      <td>156</td>\n",
       "      <td>complete</td>\n",
       "      <td>exam</td>\n",
       "      <td>0</td>\n",
       "      <td>0.350</td>\n",
       "      <td>aa849f7e-4d50-4780-b6a0-7feb3cfe09cc</td>\n",
       "      <td>False</td>\n",
       "      <td>NaN</td>\n",
       "      <td>NaN</td>\n",
       "      <td>NaN</td>\n",
       "    </tr>\n",
       "  </tbody>\n",
       "</table>\n",
       "</div>"
      ],
      "text/plain": [
       "   learner_id    unique_learner_id            creation_serie  score  \\\n",
       "0     2364513   -92590771937651771  2021-10-01T19:01:16.000Z   16.0   \n",
       "1     1987716  3392312726569945104  2021-08-18T22:59:12.000Z   19.0   \n",
       "2      304008 -1708221254721400777  2021-08-07T16:58:46.000Z   19.0   \n",
       "3      584245 -2588731723289132657  2019-06-16T11:02:52.000Z   18.0   \n",
       "4     1276434  -479177578173813811  2021-01-31T21:30:01.000Z   14.0   \n",
       "\n",
       "   series_id    status  type  is_freemium  score_pct  \\\n",
       "0       9111  complete  exam            0      0.400   \n",
       "1       6967  complete  exam            0      0.475   \n",
       "2       6247  complete  exam            0      0.475   \n",
       "3         71  complete  exam            0      0.450   \n",
       "4        156  complete  exam            0      0.350   \n",
       "\n",
       "                    training_session_id  is_before_theory_exam_success  \\\n",
       "0  302234e2-7f5c-415a-ad46-f77067fb6da4                           True   \n",
       "1  07efe275-053d-4dc6-943e-4db2835ccc01                           True   \n",
       "2  fdaa6cf0-391f-46be-bcd0-2733da668d43                           True   \n",
       "3  20d4b7f2-6c48-42e6-88a6-21ca16d20265                           True   \n",
       "4  aa849f7e-4d50-4780-b6a0-7feb3cfe09cc                          False   \n",
       "\n",
       "   course_id course_name  course_order  \n",
       "0        NaN         NaN           NaN  \n",
       "1        NaN         NaN           NaN  \n",
       "2        NaN         NaN           NaN  \n",
       "3        NaN         NaN           NaN  \n",
       "4        NaN         NaN           NaN  "
      ]
     },
     "execution_count": 2,
     "metadata": {},
     "output_type": "execute_result"
    }
   ],
   "source": [
    "# Importation de la base et visualisation des données \n",
    "#Kacim #df = pd.read_csv(\"C:\\\\Users\\\\Home\\\\Desktop\\\\Statapp\\\\series_progress_sampled.csv\")\n",
    "df = pd.read_csv(r\"C:\\Users\\mira_\\Documents\\ENSAE\\2A\\statapp\\series_progress_sampled.csv\")\n",
    "df.head(5)"
   ]
  },
  {
   "cell_type": "markdown",
   "metadata": {},
   "source": [
    "# Etude des scores"
   ]
  },
  {
   "cell_type": "code",
   "execution_count": 3,
   "metadata": {},
   "outputs": [
    {
     "data": {
      "text/plain": [
       "count    3.028067e+06\n",
       "mean     7.667635e-01\n",
       "std      1.526430e-01\n",
       "min      0.000000e+00\n",
       "25%      6.750000e-01\n",
       "50%      8.000000e-01\n",
       "75%      9.000000e-01\n",
       "max      1.000000e+00\n",
       "Name: score_pct, dtype: float64"
      ]
     },
     "execution_count": 3,
     "metadata": {},
     "output_type": "execute_result"
    }
   ],
   "source": [
    "df['score_pct'].describe()"
   ]
  },
  {
   "cell_type": "markdown",
   "metadata": {},
   "source": [
    "## Scores par learners"
   ]
  },
  {
   "cell_type": "code",
   "execution_count": 22,
   "metadata": {},
   "outputs": [],
   "source": [
    "#on regroupe par learner\n",
    "\n",
    "df2 = df.groupby(['learner_id'])"
   ]
  },
  {
   "cell_type": "code",
   "execution_count": 9,
   "metadata": {},
   "outputs": [
    {
     "data": {
      "text/plain": [
       "learner_id\n",
       "77     0.950000\n",
       "89     0.777059\n",
       "223    0.725000\n",
       "268    0.812500\n",
       "429         NaN\n",
       "Name: score_pct, dtype: float64"
      ]
     },
     "execution_count": 9,
     "metadata": {},
     "output_type": "execute_result"
    }
   ],
   "source": [
    "#creation de la serie des moyennes de chaque learner en scores (en pourcentage) \n",
    "\n",
    "mn_by_learner = pd.Series(df2['score_pct'].mean())\n",
    "mn_by_learner.head(5)"
   ]
  },
  {
   "cell_type": "code",
   "execution_count": 14,
   "metadata": {},
   "outputs": [],
   "source": [
    "nb_de_series_par_lrn = df2['creation_serie'].count()"
   ]
  },
  {
   "cell_type": "code",
   "execution_count": 19,
   "metadata": {},
   "outputs": [
    {
     "data": {
      "text/plain": [
       "count    39777.000000\n",
       "mean       109.176484\n",
       "std        242.919271\n",
       "min          1.000000\n",
       "25%          2.000000\n",
       "50%         36.000000\n",
       "75%        125.000000\n",
       "max      13389.000000\n",
       "Name: creation_serie, dtype: float64"
      ]
     },
     "execution_count": 19,
     "metadata": {},
     "output_type": "execute_result"
    }
   ],
   "source": [
    "nb_de_series_par_lrn.describe()"
   ]
  },
  {
   "cell_type": "code",
   "execution_count": 6,
   "metadata": {},
   "outputs": [
    {
     "data": {
      "text/plain": [
       "<matplotlib.axes._subplots.AxesSubplot at 0x1f02c5d2828>"
      ]
     },
     "execution_count": 6,
     "metadata": {},
     "output_type": "execute_result"
    },
    {
     "data": {
      "image/png": "[encoded data removed]",
      "text/plain": [
       "<Figure size 432x288 with 1 Axes>"
      ]
     },
     "metadata": {
      "needs_background": "light"
     },
     "output_type": "display_data"
    }
   ],
   "source": [
    "#histogramme des moyennes de score en pct\n",
    "mn_by_learner.hist(bins=40)"
   ]
  },
  {
   "cell_type": "code",
   "execution_count": 21,
   "metadata": {},
   "outputs": [
    {
     "data": {
      "text/plain": [
       "[<matplotlib.lines.Line2D at 0x1f02c9e15f8>]"
      ]
     },
     "execution_count": 21,
     "metadata": {},
     "output_type": "execute_result"
    },
    {
     "data": {
      "image/png": "[encoded data removed]",
      "text/plain": [
       "<Figure size 432x288 with 1 Axes>"
      ]
     },
     "metadata": {
      "needs_background": "light"
     },
     "output_type": "display_data"
    }
   ],
   "source": [
    "plt.plot(nb_de_series_par_lrn)"
   ]
  },
  {
   "cell_type": "markdown",
   "metadata": {},
   "source": [
    "# Etude de l'assiduité"
   ]
  },
  {
   "cell_type": "code",
   "execution_count": null,
   "metadata": {},
   "outputs": [],
   "source": []
  }
 ],
 "metadata": {
  "kernelspec": {
   "display_name": "Python 3.7.3 64-bit ('anaconda3')",
   "language": "python",
   "name": "python3"
  },
  "language_info": {
   "codemirror_mode": {
    "name": "ipython",
    "version": 3
   },
   "file_extension": ".py",
   "mimetype": "text/x-python",
   "name": "python",
   "nbconvert_exporter": "python",
   "pygments_lexer": "ipython3",
   "version": "3.7.3"
  },
  "orig_nbformat": 4,
  "vscode": {
   "interpreter": {
    "hash": "aeee69b0d9aa98ebce43c06012b0ed9a272baeb83e637f0b0889af29a3d4b916"
   }
  }
 },
 "nbformat": 4,
 "nbformat_minor": 2
}
